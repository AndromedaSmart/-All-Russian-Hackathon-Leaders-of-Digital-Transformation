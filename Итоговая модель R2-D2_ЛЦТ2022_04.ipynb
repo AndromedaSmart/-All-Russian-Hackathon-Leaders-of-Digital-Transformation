{
 "cells": [
  {
   "cell_type": "code",
   "execution_count": 1,
   "id": "0e886fa7",
   "metadata": {},
   "outputs": [],
   "source": [
    "import pandas as pd"
   ]
  },
  {
   "cell_type": "markdown",
   "id": "5d4a4c24",
   "metadata": {},
   "source": [
    "Решение предполагает подключение к базе PostgreSQL из рассчетного модуля Python. Из базы согласно введенным в блоке фильтров пользовательского интерфейса выгружается единая таблица со всеми необходимыми данныеми, которые затем перерассчитываются в модуле Python для построения графиков. Графики импортируются в интерфейс."
   ]
  },
  {
   "cell_type": "code",
   "execution_count": 2,
   "id": "77d4d77a",
   "metadata": {},
   "outputs": [],
   "source": [
    "from postgresql_secret import pg_secret"
   ]
  },
  {
   "cell_type": "code",
   "execution_count": 3,
   "id": "9f203465",
   "metadata": {},
   "outputs": [
    {
     "data": {
      "text/plain": [
       "{'db_host': 'localhost',\n",
       " 'db_name': 'postgres',\n",
       " 'db_port': '5432',\n",
       " 'db_user': 'postgres'}"
      ]
     },
     "execution_count": 3,
     "metadata": {},
     "output_type": "execute_result"
    }
   ],
   "source": [
    "pg_secret"
   ]
  },
  {
   "cell_type": "code",
   "execution_count": 4,
   "id": "402d5512",
   "metadata": {},
   "outputs": [
    {
     "name": "stdout",
     "output_type": "stream",
     "text": [
      "Requirement already satisfied: psycopg2-binary in c:\\users\\1\\anaconda3\\lib\\site-packages (2.9.5)\n"
     ]
    }
   ],
   "source": [
    "!pip install psycopg2-binary"
   ]
  },
  {
   "cell_type": "code",
   "execution_count": 5,
   "id": "9f3270ff",
   "metadata": {},
   "outputs": [],
   "source": [
    "import psycopg2\n",
    "\n",
    "connection = psycopg2.connect(\n",
    "                             database=pg_secret['db_name'],\n",
    "                             user=pg_secret['db_user'],\n",
    "                             host=pg_secret['db_host'],\n",
    "                             port=pg_secret['db_port'],\n",
    "                             )                                    \n",
    "\n",
    "cursor = connection.cursor()"
   ]
  },
  {
   "cell_type": "markdown",
   "id": "3d002a58",
   "metadata": {},
   "source": [
    "Введенные пользователем настройки из интерфейса передаются в модуль Python в виде переменных, которые используются для фильтрации запроса в базу и построения графиков."
   ]
  },
  {
   "cell_type": "code",
   "execution_count": null,
   "id": "f208ef0c",
   "metadata": {},
   "outputs": [],
   "source": [
    "in_razdel = input() #раздел ТНВЭД"
   ]
  },
  {
   "cell_type": "code",
   "execution_count": null,
   "id": "b4ce9d69",
   "metadata": {},
   "outputs": [],
   "source": [
    "in_period_ot = input() #начало расчетного периода"
   ]
  },
  {
   "cell_type": "code",
   "execution_count": null,
   "id": "dd4dca65",
   "metadata": {},
   "outputs": [],
   "source": [
    "in_period_do = input() #окончание расчетного периода (включительно)"
   ]
  },
  {
   "cell_type": "code",
   "execution_count": null,
   "id": "6c89ccff",
   "metadata": {},
   "outputs": [],
   "source": [
    "       perid_new = "
   ]
  },
  {
   "cell_type": "code",
   "execution_count": null,
   "id": "b465f6b2",
   "metadata": {},
   "outputs": [],
   "source": [
    "in_period_sravn_ot = input() #начало периода сравнения"
   ]
  },
  {
   "cell_type": "code",
   "execution_count": null,
   "id": "3011e9e4",
   "metadata": {},
   "outputs": [],
   "source": [
    "in_period_sravn_do = input() #окончание периода сравнения ()"
   ]
  },
  {
   "cell_type": "code",
   "execution_count": null,
   "id": "1071ae6f",
   "metadata": {},
   "outputs": [],
   "source": [
    "       period_old = "
   ]
  },
  {
   "cell_type": "code",
   "execution_count": null,
   "id": "87e347ee",
   "metadata": {},
   "outputs": [],
   "source": [
    "       periody_vibrany = period_old+period_new"
   ]
  },
  {
   "cell_type": "code",
   "execution_count": 42,
   "id": "080b5a01",
   "metadata": {},
   "outputs": [
    {
     "name": "stdout",
     "output_type": "stream",
     "text": [
      "ИМ\n"
     ]
    }
   ],
   "source": [
    "in_napr = input() #направление (ИМ,ЭК, ИМ+ЭК)"
   ]
  },
  {
   "cell_type": "code",
   "execution_count": null,
   "id": "47d4622d",
   "metadata": {},
   "outputs": [],
   "source": [
    "in_urov_tnved = input() #количество знаков ТНВЭД"
   ]
  },
  {
   "cell_type": "code",
   "execution_count": null,
   "id": "2ab0d74f",
   "metadata": {},
   "outputs": [],
   "source": [
    "in_tnved = input() #ТНВЭД"
   ]
  },
  {
   "cell_type": "code",
   "execution_count": null,
   "id": "1a1556cd",
   "metadata": {},
   "outputs": [],
   "source": [
    "       если 4 знака"
   ]
  },
  {
   "cell_type": "code",
   "execution_count": null,
   "id": "f9e7d926",
   "metadata": {},
   "outputs": [],
   "source": [
    "in_strana = input() #страна"
   ]
  },
  {
   "cell_type": "code",
   "execution_count": null,
   "id": "b6d12d13",
   "metadata": {},
   "outputs": [],
   "source": [
    "in_strana_friend = input() #внешнеэкономический признак страны - в существующей базе не реализован, предлагается как часть развития сервиса"
   ]
  },
  {
   "cell_type": "code",
   "execution_count": 60,
   "id": "7fe509c1",
   "metadata": {},
   "outputs": [
    {
     "name": "stdout",
     "output_type": "stream",
     "text": [
      "02\n"
     ]
    }
   ],
   "source": [
    "in_fo = input() #федеральный округ"
   ]
  },
  {
   "cell_type": "code",
   "execution_count": null,
   "id": "762fc916",
   "metadata": {},
   "outputs": [],
   "source": [
    "in_subrf = input() #регион"
   ]
  },
  {
   "cell_type": "code",
   "execution_count": null,
   "id": "c5aef839",
   "metadata": {},
   "outputs": [],
   "source": [
    "in_edizm = input() #единица измерения"
   ]
  },
  {
   "cell_type": "markdown",
   "id": "b553d2a9",
   "metadata": {},
   "source": [
    "Переданные настройки в случае необходимости сохраняются в виде списка для ускорения повторного построения в случае необходимости."
   ]
  },
  {
   "cell_type": "code",
   "execution_count": null,
   "id": "24e32bda",
   "metadata": {},
   "outputs": [],
   "source": [
    "nabor = [periody_old, period_new, in_strana, in_tnved, in_edizm, in_subrf, in_fo] # сохранение набора фильтров для повторного использования"
   ]
  },
  {
   "cell_type": "markdown",
   "id": "4ae433e0",
   "metadata": {},
   "source": [
    "Для построения графиков со сравнением делается 2 запрос в БД, имеющих следующий вид:"
   ]
  },
  {
   "cell_type": "code",
   "execution_count": null,
   "id": "1a742d79",
   "metadata": {},
   "outputs": [],
   "source": [
    "query = \"\"\"SELECT * \n",
    "           FROM dattsvt d\n",
    "           left join tnved t on d.tnved = t.kod\n",
    "           left join strana s on d.nastranapr = s.kod\n",
    "           left join edizm e on d.edizm = e.kod\n",
    "           WHERE napr = {}\n",
    "               and piriod in {}\n",
    "               and nastranapr = {}\n",
    "               and tnved = {}\n",
    "               and edizm = {}\n",
    "               and region = {}\n",
    "               and region_s = {}\n",
    "               \"\"\".format(period_old, in_strana, in_tnved, in_edizm, in_subrf, in_fo) # и такой же с period_new                         \n",
    "cursor.execute(query)\n",
    "table = cursor.fetchall()\n",
    "df_old = pd.DataFrame(table) # с period_new получаем df_new"
   ]
  },
  {
   "cell_type": "markdown",
   "id": "9b9cbfdb",
   "metadata": {},
   "source": [
    "В результате обработки запроса в модуль Python передаются готовые датафреймы со всеми необходимыми данными."
   ]
  },
  {
   "cell_type": "markdown",
   "id": "54bfa546",
   "metadata": {},
   "source": [
    "Для работы с разделами можно использовать как словарь внутри модуля Python, так и создать отдельную таблицу в БД."
   ]
  },
  {
   "cell_type": "code",
   "execution_count": null,
   "id": "d7941897",
   "metadata": {},
   "outputs": [],
   "source": [
    "razdel = {'01':'Продовольственные  товары и сельскохозяйственное сырье (кроме текстильного)', '02':'Продовольственные  товары и сельскохозяйственное сырье (кроме текстильного)','03':'Продовольственные  товары и сельскохозяйственное сырье (кроме текстильного)','04':'Продовольственные  товары и сельскохозяйственное сырье (кроме текстильного)','05':'Продовольственные  товары и сельскохозяйственное сырье (кроме текстильного)','06':'Продовольственные  товары и сельскохозяйственное сырье (кроме текстильного)', '07':'Продовольственные  товары и сельскохозяйственное сырье (кроме текстильного)', '08':'Продовольственные  товары и сельскохозяйственное сырье (кроме текстильного)', '09':'Продовольственные  товары и сельскохозяйственное сырье (кроме текстильного)', '10':'Продовольственные  товары и сельскохозяйственное сырье (кроме текстильного)',\n",
    "       '11':'Продовольственные  товары и сельскохозяйственное сырье (кроме текстильного)', '12':'Продовольственные  товары и сельскохозяйственное сырье (кроме текстильного)', '13':'Продовольственные  товары и сельскохозяйственное сырье (кроме текстильного)', '14':'Продовольственные  товары и сельскохозяйственное сырье (кроме текстильного)', '15':'Продовольственные  товары и сельскохозяйственное сырье (кроме текстильного)', '16':'Продовольственные  товары и сельскохозяйственное сырье (кроме текстильного)', '17':'Продовольственные  товары и сельскохозяйственное сырье (кроме текстильного)', '18':'Продовольственные  товары и сельскохозяйственное сырье (кроме текстильного)', '19':'Продовольственные  товары и сельскохозяйственное сырье (кроме текстильного)', '20':'Продовольственные  товары и сельскохозяйственное сырье (кроме текстильного)',\n",
    "       '21':'Продовольственные  товары и сельскохозяйственное сырье (кроме текстильного)', '22':'Продовольственные  товары и сельскохозяйственное сырье (кроме текстильного)', '23':'Продовольственные  товары и сельскохозяйственное сырье (кроме текстильного)', '24':'Продовольственные  товары и сельскохозяйственное сырье (кроме текстильного)',\n",
    "       '25':'Минеральные продукты', '26':'Минеральные продукты', '27':'Топливно-энергетические товары',\n",
    "       '28':'Продукция химической промышленности,  каучук', '29':'Продукция химической промышленности,  каучук', '30':'Продукция химической промышленности,  каучук',\n",
    "       '31':'Продукция химической промышленности,  каучук', '32':'Продукция химической промышленности,  каучук', '33':'Продукция химической промышленности,  каучук', '34':'Продукция химической промышленности,  каучук', '35':'Продукция химической промышленности,  каучук', '36':'Продукция химической промышленности,  каучук', '37':'Продукция химической промышленности,  каучук', '38':'Продукция химической промышленности,  каучук', '39':'Продукция химической промышленности,  каучук', '40':'Продукция химической промышленности,  каучук',\n",
    "       '41':'Кожевенное сырье, пушнина и изделия из них', '42':'Кожевенное сырье, пушнина и изделия из них', '43':'Кожевенное сырье, пушнина и изделия из них',\n",
    "       '44':'Древесина и целлюлозно-бумажные изделия', '45':'Древесина и целлюлозно-бумажные изделия', '46':'Древесина и целлюлозно-бумажные изделия', '47':'Древесина и целлюлозно-бумажные изделия', '48':'Древесина и целлюлозно-бумажные изделия', '49':'Древесина и целлюлозно-бумажные изделия',\n",
    "       '50':'Текстиль, текстильные изделия и обувь',\n",
    "       '51':'Текстиль, текстильные изделия и обувь', '52':'Текстиль, текстильные изделия и обувь', '53':'Текстиль, текстильные изделия и обувь', '54':'Текстиль, текстильные изделия и обувь', '55':'Текстиль, текстильные изделия и обувь', '56':'Текстиль, текстильные изделия и обувь', '57':'Текстиль, текстильные изделия и обувь', '58':'Текстиль, текстильные изделия и обувь', '59':'Текстиль, текстильные изделия и обувь', '60':'Текстиль, текстильные изделия и обувь',\n",
    "       '61':'Текстиль, текстильные изделия и обувь', '62':'Текстиль, текстильные изделия и обувь', '63':'Текстиль, текстильные изделия и обувь', '64':'Текстиль, текстильные изделия и обувь', '65':'Текстиль, текстильные изделия и обувь', '66':'Текстиль, текстильные изделия и обувь', '67':'Текстиль, текстильные изделия и обувь',\n",
    "       '68':'Другие товары', '69':'Другие товары', '70':'Другие товары',\n",
    "       '71':'Драгоценные камни, драгоценные металлы и изделия из них',\n",
    "       '72':'Металлы и изделия  из них', '73':'Металлы и изделия  из них', '74':'Металлы и изделия  из них', '75':'Металлы и изделия  из них', '76':'Металлы и изделия  из них', '77':'Металлы и изделия  из них', '78':'Металлы и изделия  из них', '79':'Металлы и изделия  из них', '80':'Металлы и изделия  из них',\n",
    "       '81':'Металлы и изделия  из них', '82':'Металлы и изделия  из них', '83':'Металлы и изделия  из них',\n",
    "       '84':'Машины, оборудование и транспортные средства', '85':'Машины, оборудование и транспортные средства', '86':'Машины, оборудование и транспортные средства', '87':'Машины, оборудование и транспортные средства', '88':'Машины, оборудование и транспортные средства', '89':'Машины, оборудование и транспортные средства', '90':'Машины, оборудование и транспортные средства',\n",
    "       '91':'Другие товары', '92':'Другие товары', '93':'Другие товары', '94':'Другие товары', '95':'Другие товары', '96':'Другие товары', '97':'Другие товары'}"
   ]
  },
  {
   "cell_type": "markdown",
   "id": "268e202d",
   "metadata": {},
   "source": [
    "Перед построением графиков делается предобработка датафреймов и слияние их в один для сопоставления данных по товародвижению за разные периоды. Сопоставление делается по полному соответствию (период, страна, напрвление, ТНВЭД, регион)"
   ]
  },
  {
   "cell_type": "code",
   "execution_count": null,
   "id": "6a06d9bb",
   "metadata": {},
   "outputs": [],
   "source": [
    "df = df_old.merge(df_new, on = ['napr','period','nastranapr', 'tnved', 'Region'])"
   ]
  },
  {
   "cell_type": "markdown",
   "id": "4195a2da",
   "metadata": {},
   "source": [
    "Затем создаются два дополнительных столбца с суммой падения и процентом изменения сумм товародвижения:"
   ]
  },
  {
   "cell_type": "code",
   "execution_count": null,
   "id": "b3a0fb2c",
   "metadata": {},
   "outputs": [],
   "source": [
    "df['sum_padenie'] = df['Stoim_x']-df['Stoim_y']\n",
    "df['proc_izmen'] = round((df['Stoim_y']-df['Stoim_x'])*100/df['Stoim_x'], 2)"
   ]
  },
  {
   "cell_type": "markdown",
   "id": "00b7e4c3",
   "metadata": {},
   "source": [
    "Из полученного датафрейма отбираются только те строки, где произошло падение в суммах товародвижения:"
   ]
  },
  {
   "cell_type": "code",
   "execution_count": null,
   "id": "938a0c06",
   "metadata": {},
   "outputs": [],
   "source": [
    "df_for_graf = df.loc[df['sum_padenie']>0]"
   ]
  },
  {
   "cell_type": "markdown",
   "id": "65e69cbb",
   "metadata": {},
   "source": [
    "Полученный датафрейм используется для построения графиков."
   ]
  },
  {
   "cell_type": "markdown",
   "id": "c9d885bb",
   "metadata": {},
   "source": [
    "Для построения графиков используются библиотеки matplotlib и folium."
   ]
  },
  {
   "cell_type": "code",
   "execution_count": null,
   "id": "141028d9",
   "metadata": {},
   "outputs": [],
   "source": [
    "from matplotlib import pyplot as plt\n",
    "!pip install folium\n",
    "import folium"
   ]
  },
  {
   "cell_type": "code",
   "execution_count": null,
   "id": "c4739b2a",
   "metadata": {},
   "outputs": [],
   "source": [
    "#пайчарт\n",
    "df_for_pie = df_for_graf.groupby('tnved')['sum_padenie'].sum().reset_index().sort_values(by = 'sum_padenie')\n",
    "labels = df_for_pie['tnved'].to_list()\n",
    "plt.figure(figsize = (8,8))\n",
    "plt.pie(x = df_for_pie['sum_padenie'], data = df_for_pie, labels = labels, autopct = '%d%%', pctdistance=0.8, labeldistance=1.1)\n",
    "plt.show()"
   ]
  },
  {
   "cell_type": "code",
   "execution_count": null,
   "id": "fb285cf7",
   "metadata": {},
   "outputs": [],
   "source": [
    "#гистограмма\n",
    "plt.figure(figsize = (6,4))\n",
    "plt.bar(df_for_graf['tnved'], df_for_graf['proc_izmen'])\n",
    "plt.xticks(rotation=90)\n",
    "plt.grid(color='grey', linestyle='--', linewidth=1, alpha = 0.3)\n",
    "plt.show()"
   ]
  },
  {
   "cell_type": "code",
   "execution_count": null,
   "id": "ed5ce798",
   "metadata": {},
   "outputs": [],
   "source": [
    "#лайнплот не может вместить более 5 позиций топа\n",
    "\n",
    "#схематично, требует доработок\n",
    "ax, fig = plt.subplots(figsize=(8, 4))\n",
    "ax_1 = plt.plot(df_tnved_1['month'], df_tnved_1['Stoim_x'], color = '#f21d1d')\n",
    "ax_1_y = plt.plot(df_tnved_1['month'], df_tnved_1['Stoim_y'], color = '#f21d1d', alpha = 0.3)\n",
    "\n",
    "ax_2 = plt.plot(df_tnved_2['month'], df_tnved_2['Stoim_x'], color = '#d618d0')\n",
    "ax_2_y = plt.plot(df_tnved_2['month'], df_tnved_2['Stoim_y'], color = '#d618d0', alpha = 0.3)\n",
    "\n",
    "ax_3 = plt.plot(df_tnved_3['month'], df_tnved_3['Stoim_x'], color = '#3e18d6')\n",
    "ax_3_y = plt.plot(df_tnved_3['month'], df_tnved_3['Stoim_y'], color = '#3e18d6', alpha = 0.3)\n",
    "\n",
    "ax_4 = plt.plot(df_tnved_4['month'], df_tnved_4['Stoim_x'], color = '#18d64e')\n",
    "ax_4 = plt.plot(df_tnved_4['month'], df_tnved_4['Stoim_x'], color = '#d6ad18')\n",
    "\n",
    "ax_5 = plt.plot(df_tnved_5['month'], df_tnved_5['Stoim_y'], color = '#18d64e', alpha = 0.3)\n",
    "ax_5_y = plt.plot(df_tnved_5['month'], df_tnved_5['Stoim_y'], color = '#d6ad18', alpha = 0.3)\n",
    "plt.grid(color='grey', linestyle='--', linewidth=1, alpha = 0.3)\n",
    "plt.show()"
   ]
  },
  {
   "cell_type": "code",
   "execution_count": null,
   "id": "604ff1af",
   "metadata": {},
   "outputs": [],
   "source": [
    "#карта предполагает создание в БД в таблице с регионами дополнительных стоблцов с широтой и долготой региональных центров\n",
    "\n",
    "#схематично, требует доработок\n",
    "df_for_graf_for_map = df_for_graf.groupby('Region')['sum_padenie'].sum().reset_index().sort_values(by = 'sum_padenie', ascending = False)\n",
    "M = folium.Map( location = [ latitude, longitude ] )\n",
    "russia_map = folium.Map(\n",
    "    location = [64.6863136, 97.7453061]\n",
    "region_1 = folium.map.FeatureGroup()\n",
    "region_2 = folium.map.FeatureGroup()\n",
    "region_3 = folium.map.FeatureGroup()\n",
    "region_4 = folium.map.FeatureGroup()\n",
    "region_5 = folium.map.FeatureGroup()\n",
    "\n",
    "region_1.add_child(\n",
    "    folium.features.CircleMarker(\n",
    "        [latitude, longitude], radius = 'sum_padenie',  # широта и долгота Санкт-Петербурга\n",
    "        color = 'red', fill_color = 'Red'))\n",
    "region_2.add_child(\n",
    "    folium.features.CircleMarker(\n",
    "        [latitude, longitude], radius = 'sum_padenie',  # широта и долгота Санкт-Петербурга\n",
    "        color = 'red', fill_color = 'Red'))\n",
    "region_3.add_child(\n",
    "    folium.features.CircleMarker(\n",
    "        [latitude, longitude], radius = 'sum_padenie',  # широта и долгота Санкт-Петербурга\n",
    "        color = 'red', fill_color = 'Red'))\n",
    "region_4.add_child(\n",
    "    folium.features.CircleMarker(\n",
    "        [latitude, longitude], radius = 'sum_padenie',  # широта и долгота Санкт-Петербурга\n",
    "        color = 'red', fill_color = 'Red'))\n",
    "region_5.add_child(\n",
    "    folium.features.CircleMarker(\n",
    "        [latitude, longitude], radius = 'sum_padenie',  # широта и долгота Санкт-Петербурга\n",
    "        color = 'red', fill_color = 'Red'))\n",
    "\n",
    "# add the feature group to the map  (добавить группу объектов на карту)\n",
    "russia_map.add_child(region_1)\n",
    "russia_map.add_child(region_2)\n",
    "russia_map.add_child(region_3)\n",
    "russia_map.add_child(region_4)\n",
    "russia_map.add_child(region_5)\n",
    "\n",
    "# display russia map\n",
    "russia_map\n",
    "    "
   ]
  }
 ],
 "metadata": {
  "kernelspec": {
   "display_name": "Python 3 (ipykernel)",
   "language": "python",
   "name": "python3"
  },
  "language_info": {
   "codemirror_mode": {
    "name": "ipython",
    "version": 3
   },
   "file_extension": ".py",
   "mimetype": "text/x-python",
   "name": "python",
   "nbconvert_exporter": "python",
   "pygments_lexer": "ipython3",
   "version": "3.9.12"
  }
 },
 "nbformat": 4,
 "nbformat_minor": 5
}
